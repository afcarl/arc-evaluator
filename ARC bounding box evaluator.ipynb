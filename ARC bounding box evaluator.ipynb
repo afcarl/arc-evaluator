{
 "metadata": {
  "name": "",
  "signature": "sha256:1d4f1ecb610223fbe15bbf339d343b7909ccfc5fe8611b015ea634d31a77bb27"
 },
 "nbformat": 3,
 "nbformat_minor": 0,
 "worksheets": [
  {
   "cells": [
    {
     "cell_type": "heading",
     "level": 1,
     "source": [
      "Bounding box evaluation framework"
     ]
    },
    {
     "cell_type": "code",
     "collapsed": false,
     "input": [
      "%cd ~/notes/arc-challenge/\n",
      "import dataset\n",
      "reload(dataset)\n",
      "import CarDataset\n",
      "reload(CarDataset)\n",
      "dset = CarDataset.load(\"train\")"
     ],
     "language": "python",
     "outputs": [
      {
       "output_type": "stream",
       "stream": "stdout",
       "text": [
        "/store/home/michael/notes/arc-challenge\n"
       ]
      }
     ],
     "prompt_number": 1
    },
    {
     "cell_type": "code",
     "collapsed": false,
     "input": [
      "dset"
     ],
     "language": "python",
     "outputs": [
      {
       "output_type": "pyout",
       "prompt_number": 2,
       "text": [
        "<Dataset: 'UIUC Cars', 1050 images, labels: {'positive': 550, 'negative': 500}>"
       ]
      }
     ],
     "prompt_number": 2
    },
    {
     "cell_type": "code",
     "collapsed": false,
     "input": [
      "dset[800]"
     ],
     "language": "python",
     "outputs": [
      {
       "output_type": "pyout",
       "prompt_number": 4,
       "text": [
        "<DatasetRecord: 'CarData/TrainImages/neg-250.pgm', label: None, groundtruth: 'negative'>"
       ]
      }
     ],
     "prompt_number": 4
    }
   ]
  }
 ]
}